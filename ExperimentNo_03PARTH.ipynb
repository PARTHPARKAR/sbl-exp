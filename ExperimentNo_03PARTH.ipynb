{
 "cells": [
  {
   "cell_type": "markdown",
   "id": "408b5fd3-29ab-47e7-a127-ea7ce755ef2a",
   "metadata": {},
   "source": [
    "### NAME : PARTH PARKAR (Roll No.: 69)"
   ]
  },
  {
   "cell_type": "code",
   "execution_count": 1,
   "id": "c660b336-3e03-4b03-89ef-cfe3e40faa6e",
   "metadata": {},
   "outputs": [
    {
     "name": "stdout",
     "output_type": "stream",
     "text": [
      "Lines: 4\n",
      "Words: 21\n",
      "Characters: 123\n"
     ]
    }
   ],
   "source": [
    "if __name__ == '__main__':\n",
    "    with open('./file.txt', 'r') as file:\n",
    "        lines = file.readlines()\n",
    "        numberOfLines = len(lines)\n",
    "        numberOfWords = sum(len(line.split()) for line in lines)\n",
    "        \n",
    "        # Counting the number of characters\n",
    "        numberOfCharacters = sum(len(line) for line in lines)\n",
    "        \n",
    "    print(f\"Lines: {numberOfLines}\")\n",
    "    print(f\"Words: {numberOfWords}\")\n",
    "    print(f\"Characters: {numberOfCharacters}\")"
   ]
  },
  {
   "cell_type": "code",
   "execution_count": null,
   "id": "0a5e9479-4dbe-4c00-b001-67a603fd360e",
   "metadata": {},
   "outputs": [],
   "source": []
  }
 ],
 "metadata": {
  "kernelspec": {
   "display_name": "Python [conda env:base] *",
   "language": "python",
   "name": "conda-base-py"
  },
  "language_info": {
   "codemirror_mode": {
    "name": "ipython",
    "version": 3
   },
   "file_extension": ".py",
   "mimetype": "text/x-python",
   "name": "python",
   "nbconvert_exporter": "python",
   "pygments_lexer": "ipython3",
   "version": "3.12.7"
  }
 },
 "nbformat": 4,
 "nbformat_minor": 5
}
