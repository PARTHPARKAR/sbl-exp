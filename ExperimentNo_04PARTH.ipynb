{
 "cells": [
  {
   "cell_type": "markdown",
   "id": "996bfca3-da7f-4831-8b14-1174fdef77f3",
   "metadata": {},
   "source": [
    "### NAME: PARTH PARKAR (Roll No 69)"
   ]
  },
  {
   "cell_type": "markdown",
   "id": "ec2d994a-71f1-442e-82e2-8c651dc9eed4",
   "metadata": {},
   "source": [
    "## [Provides functions for interacting with the operating system, including file and directory operations]"
   ]
  },
  {
   "cell_type": "code",
   "execution_count": 3,
   "id": "815886af-8023-4afa-9848-4f32fe9d2c6f",
   "metadata": {},
   "outputs": [
    {
     "name": "stdout",
     "output_type": "stream",
     "text": [
      "Files in the current directory:\n",
      ".node_repl_history\n",
      "ind.js\n",
      "NTUSER.DAT\n",
      "ntuser.dat.LOG1\n",
      "ntuser.dat.LOG2\n",
      "NTUSER.DAT{2484840f-fd7a-11ee-af0f-b81ea4e3c400}.TM.blf\n",
      "NTUSER.DAT{2484840f-fd7a-11ee-af0f-b81ea4e3c400}.TMContainer00000000000000000001.regtrans-ms\n",
      "NTUSER.DAT{2484840f-fd7a-11ee-af0f-b81ea4e3c400}.TMContainer00000000000000000002.regtrans-ms\n",
      "ntuser.ini\n",
      "Raunak Sir Assignment 01.ipynb\n",
      "Untitled.ipynb\n",
      "Untitled1.ipynb\n"
     ]
    }
   ],
   "source": [
    "import os\n",
    "\n",
    "files = [f for f in os.listdir('.') if os.path.isfile(f)]\n",
    "\n",
    "print(\"Files in the current directory:\")\n",
    "for file in files:\n",
    "    print(file)\n"
   ]
  },
  {
   "cell_type": "markdown",
   "id": "14b1a95a-249d-4ced-a85d-b685a0712f32",
   "metadata": {},
   "source": [
    "## [This script lists all files in the current directory using the pathlib module.\n",
    " Pathlib provides an object-oriented approach to handle file system paths, making\n",
    " the code more readable and modern compared to the os module]"
   ]
  },
  {
   "cell_type": "code",
   "execution_count": 5,
   "id": "09e6d549-ff58-4b9c-ba61-f41b72a9dddc",
   "metadata": {},
   "outputs": [
    {
     "name": "stdout",
     "output_type": "stream",
     "text": [
      "Files in the current directory:\n",
      ".node_repl_history\n",
      "ind.js\n",
      "NTUSER.DAT\n",
      "ntuser.dat.LOG1\n",
      "ntuser.dat.LOG2\n",
      "NTUSER.DAT{2484840f-fd7a-11ee-af0f-b81ea4e3c400}.TM.blf\n",
      "NTUSER.DAT{2484840f-fd7a-11ee-af0f-b81ea4e3c400}.TMContainer00000000000000000001.regtrans-ms\n",
      "NTUSER.DAT{2484840f-fd7a-11ee-af0f-b81ea4e3c400}.TMContainer00000000000000000002.regtrans-ms\n",
      "ntuser.ini\n",
      "Raunak Sir Assignment 01.ipynb\n",
      "Untitled.ipynb\n",
      "Untitled1.ipynb\n"
     ]
    }
   ],
   "source": [
    "from pathlib import Path\n",
    "\n",
    "current_dir = Path('.')\n",
    "\n",
    "files = [f for f in current_dir.iterdir() if f.is_file()]\n",
    "\n",
    "print(\"Files in the current directory:\")\n",
    "for file in files:\n",
    "    print(file.name)"
   ]
  },
  {
   "cell_type": "code",
   "execution_count": null,
   "id": "78f9fefa-663a-4e41-8f25-d85d255796f4",
   "metadata": {},
   "outputs": [],
   "source": []
  }
 ],
 "metadata": {
  "kernelspec": {
   "display_name": "Python 3 (ipykernel)",
   "language": "python",
   "name": "python3"
  },
  "language_info": {
   "codemirror_mode": {
    "name": "ipython",
    "version": 3
   },
   "file_extension": ".py",
   "mimetype": "text/x-python",
   "name": "python",
   "nbconvert_exporter": "python",
   "pygments_lexer": "ipython3",
   "version": "3.12.5"
  }
 },
 "nbformat": 4,
 "nbformat_minor": 5
}
