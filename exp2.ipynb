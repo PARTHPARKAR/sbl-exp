{
  "metadata": {
    "kernelspec": {
      "name": "python",
      "display_name": "Python (Pyodide)",
      "language": "python"
    },
    "language_info": {
      "codemirror_mode": {
        "name": "python",
        "version": 3
      },
      "file_extension": ".py",
      "mimetype": "text/x-python",
      "name": "python",
      "nbconvert_exporter": "python",
      "pygments_lexer": "ipython3",
      "version": "3.8"
    }
  },
  "nbformat_minor": 5,
  "nbformat": 4,
  "cells": [
    {
      "id": "8acc4673-a649-4a42-99d8-497d704468bf",
      "cell_type": "code",
      "source": "class Employee:\n    def __init__(\n            self,\n            designation: str = 'Developer',\n            frontend: bool = False,\n            backend: bool = False,\n    ):\n        self.designation = designation\n        self.frontend = frontend\n        self.backend = backend\n        \n    def __repr__(self):\n        return '{},{},{}'.format(self.designation, self.frontend, self.backend)\n\n    def verifier(self):\n        if self.frontend and self.backend:\n            return 'FullStack'\n        elif self.frontend or self.backend:\n            if self.frontend:\n                return 'Frontend {}'.format(self.designation)\n            else:\n                return 'Backend {}'.format(self.designation)\n        else:\n            return 'Not a Developer'\n\nif __name__ == '__main__':\n    firstEmployee = Employee()\n    print(firstEmployee.verifier())\n",
      "metadata": {
        "trusted": true
      },
      "outputs": [
        {
          "name": "stdout",
          "output_type": "stream",
          "text": "Not a Developer\n"
        }
      ],
      "execution_count": 12
    },
    {
      "id": "f7e7a32b-228f-49fd-95e3-a08bc3d4c0ae",
      "cell_type": "code",
      "source": "",
      "metadata": {
        "trusted": true
      },
      "outputs": [],
      "execution_count": null
    },
    {
      "id": "a9bc82d8-f034-42dc-9500-0e5f0a799f9a",
      "cell_type": "code",
      "source": "",
      "metadata": {
        "trusted": true
      },
      "outputs": [],
      "execution_count": null
    }
  ]
}