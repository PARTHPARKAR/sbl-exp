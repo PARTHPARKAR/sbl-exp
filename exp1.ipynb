{
 "cells": [
  {
   "cell_type": "markdown",
   "id": "44728c23-0f0d-443e-96ac-e144feea383b",
   "metadata": {},
   "source": [
    "### Parth Parkar-69(exp01)"
   ]
  },
  {
   "cell_type": "markdown",
   "id": "fda7c5e3-e7d2-44a4-a5e5-d06cc869feb5",
   "metadata": {},
   "source": [
    "### Strings in python"
   ]
  },
  {
   "cell_type": "code",
   "execution_count": 1,
   "id": "5c1f01f5-e3f5-4ed8-9833-2434ee327781",
   "metadata": {},
   "outputs": [
    {
     "name": "stdout",
     "output_type": "stream",
     "text": [
      "This is a string\n",
      "This is a string\n",
      "This is a string\n"
     ]
    }
   ],
   "source": [
    "# Assigning string to a variable\n",
    "a = 'This is a string'\n",
    "print (a)\n",
    "b = \"This is a string\"\n",
    "print (b)\n",
    "c= '''This is a string'''\n",
    "print (c)"
   ]
  },
  {
   "cell_type": "markdown",
   "id": "8795b977-091d-4625-b13d-7174824d6408",
   "metadata": {},
   "source": [
    "### Lists in python"
   ]
  },
  {
   "cell_type": "code",
   "execution_count": 6,
   "id": "43a7bdda-d1d3-4104-a94a-016751ddc125",
   "metadata": {},
   "outputs": [
    {
     "name": "stdout",
     "output_type": "stream",
     "text": [
      "[1, 'a', 'string', 3]\n",
      "[1, 'a', 'string', 3, 6]\n",
      "[1, 'a', 'string', 3]\n",
      "a\n"
     ]
    }
   ],
   "source": [
    "# Declaring a list\n",
    "L = [1, \"a\" , \"string\" , 1+2]\n",
    "print (L)\n",
    "#Adding an element in the list\n",
    "L.append(6) \n",
    "print (L)\n",
    "#Deleting last element from a list\n",
    "L.pop()\n",
    "print (L)\n",
    "#Displaying Second element of the list\n",
    "print (L[1])"
   ]
  },
  {
   "cell_type": "markdown",
   "id": "1e1c38ff-9a66-4cb7-a34a-4e11dbc1ffa8",
   "metadata": {},
   "source": [
    "### Tuples in python"
   ]
  },
  {
   "cell_type": "code",
   "execution_count": 7,
   "id": "a23f89ce-14c1-4d51-856b-40968ce5df2b",
   "metadata": {},
   "outputs": [
    {
     "name": "stdout",
     "output_type": "stream",
     "text": [
      "(1, 'a', 'string', 3)\n",
      "a\n"
     ]
    }
   ],
   "source": [
    "tup = (1, \"a\", \"string\", 1+2)\n",
    "print(tup)\n",
    "print(tup[1])"
   ]
  },
  {
   "cell_type": "markdown",
   "id": "af92e9e2-25ae-4159-8705-caec0cf83946",
   "metadata": {},
   "source": [
    "### Dictionaries in python"
   ]
  },
  {
   "cell_type": "code",
   "execution_count": 8,
   "id": "be42aff3-4b73-40b0-b48d-7ae79cfb359b",
   "metadata": {},
   "outputs": [
    {
     "name": "stdout",
     "output_type": "stream",
     "text": [
      "{1: 'Lorem', 2: 'Ipsum', 3: 'Dolerum'}\n"
     ]
    }
   ],
   "source": [
    "d = {1: 'Lorem', 2: 'Ipsum', 3: 'Dolerum'}\n",
    "print(d)"
   ]
  },
  {
   "cell_type": "markdown",
   "id": "f634425f-412b-4688-a16a-443a2a1d8a86",
   "metadata": {},
   "source": [
    "### Create a Dictionary"
   ]
  },
  {
   "cell_type": "code",
   "execution_count": 9,
   "id": "a85fcbfd-3273-4547-80a1-dc40be9992df",
   "metadata": {},
   "outputs": [
    {
     "name": "stdout",
     "output_type": "stream",
     "text": [
      "{1: 'Game', 2: 'of', 3: 'Thrones'}\n",
      "{'a': 'House', 'b': 'of', 'c': 'Cards'}\n"
     ]
    }
   ],
   "source": [
    "# create dictionary using { }\n",
    "d1 = {1: 'Game', 2: 'of', 3: 'Thrones'}\n",
    "print(d1)\n",
    "\n",
    "# create dictionary using dict() constructor\n",
    "d2 = dict(a = \"House\", b = \"of\", c = \"Cards\")\n",
    "print(d2)"
   ]
  },
  {
   "cell_type": "markdown",
   "id": "10716f4d-7e27-4a08-afc0-a7dc62b0ff2f",
   "metadata": {},
   "source": [
    "###  Accessing Dictionary Items"
   ]
  },
  {
   "cell_type": "code",
   "execution_count": 10,
   "id": "f9fe859e-3a20-4d4c-a1db-362fcd4d3aec",
   "metadata": {},
   "outputs": [
    {
     "name": "stdout",
     "output_type": "stream",
     "text": [
      "Alice\n",
      "Alice\n"
     ]
    }
   ],
   "source": [
    "d = { \"name\": \"Alice\", 1: \"Python\", (1, 2): [1,2,4] }\n",
    "\n",
    "# Access using key\n",
    "print(d[\"name\"])\n",
    "\n",
    "# Access using get()\n",
    "print(d.get(\"name\"))"
   ]
  },
  {
   "cell_type": "markdown",
   "id": "ce89f2e7-6a59-494f-8d79-c335c50ad680",
   "metadata": {},
   "source": [
    "### Adding and updating Dictionary Items"
   ]
  },
  {
   "cell_type": "code",
   "execution_count": 11,
   "id": "84d747ee-b0d0-48dc-a750-4820d614556c",
   "metadata": {},
   "outputs": [
    {
     "name": "stdout",
     "output_type": "stream",
     "text": [
      "{1: 'Python dict', 2: 'of', 3: 'Thrones', 'age': 22}\n"
     ]
    }
   ],
   "source": [
    "d = {1: 'Game', 2: 'of', 3: 'Thrones'}\n",
    "\n",
    "# Adding a new key-value pair\n",
    "d[\"age\"] = 22\n",
    "\n",
    "# Updating an existing value\n",
    "d[1] = \"Python dict\"\n",
    "\n",
    "print(d)"
   ]
  },
  {
   "cell_type": "markdown",
   "id": "e0311a92-a6b0-4efd-b546-1577d71e3715",
   "metadata": {},
   "source": [
    "### Deleting and Updating Dictionary items"
   ]
  },
  {
   "cell_type": "code",
   "execution_count": 1,
   "id": "60c4759a-1084-463d-8701-79a6d96c031f",
   "metadata": {},
   "outputs": [
    {
     "name": "stdout",
     "output_type": "stream",
     "text": [
      "{'b': 10, 'c': 3, 'd': 4}\n"
     ]
    }
   ],
   "source": [
    "dict = {'a': 1, 'b': 2, 'c': 3}\n",
    "del dict['a']\n",
    "dict['b'] = 10\n",
    "dict['d'] = 4\n",
    "print(dict)"
   ]
  },
  {
   "cell_type": "code",
   "execution_count": null,
   "id": "bae62012-1362-4d17-bbaa-582bf8c07b13",
   "metadata": {},
   "outputs": [],
   "source": []
  }
 ],
 "metadata": {
  "kernelspec": {
   "display_name": "Python 3 (ipykernel)",
   "language": "python",
   "name": "python3"
  },
  "language_info": {
   "codemirror_mode": {
    "name": "ipython",
    "version": 3
   },
   "file_extension": ".py",
   "mimetype": "text/x-python",
   "name": "python",
   "nbconvert_exporter": "python",
   "pygments_lexer": "ipython3",
   "version": "3.12.3"
  }
 },
 "nbformat": 4,
 "nbformat_minor": 5
}
