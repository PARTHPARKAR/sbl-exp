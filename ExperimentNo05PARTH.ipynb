{
 "cells": [
  {
   "cell_type": "code",
   "execution_count": null,
   "id": "e25a9de6",
   "metadata": {},
   "outputs": [],
   "source": [
    "### name PARTH PARKAR 69"
   ]
  },
  {
   "cell_type": "code",
   "execution_count": 1,
   "id": "88ca7a40-0a8c-4bc5-87c0-5029ba89b0cd",
   "metadata": {},
   "outputs": [
    {
     "name": "stdout",
     "output_type": "stream",
     "text": [
      "Initial Stack\n",
      "['a', 'b', 'c']\n"
     ]
    }
   ],
   "source": [
    "stack = list ()\n",
    "\n",
    "# Append Operation\n",
    "stack.append ('a')\n",
    "stack.append ('b')\n",
    "stack.append ('c')\n",
    "print ('Initial Stack')\n",
    "print (stack)"
   ]
  },
  {
   "cell_type": "code",
   "execution_count": 3,
   "id": "4dc0d3a4-55bb-4278-bad7-3ed1e69b79c7",
   "metadata": {},
   "outputs": [
    {
     "name": "stdout",
     "output_type": "stream",
     "text": [
      "c\n",
      "b\n",
      "a\n",
      "[]\n"
     ]
    }
   ],
   "source": [
    "# Pop Operation\n",
    "print (stack.pop ())\n",
    "print (stack.pop ())\n",
    "print (stack.pop ())\n",
    "print (stack)"
   ]
  },
  {
   "cell_type": "code",
   "execution_count": 11,
   "id": "7f8cc3c2-214c-4dab-bb4b-12ed88221026",
   "metadata": {},
   "outputs": [
    {
     "name": "stdout",
     "output_type": "stream",
     "text": [
      "3\n",
      "3\n",
      "3\n"
     ]
    }
   ],
   "source": [
    "class StackDepth:\n",
    "    def maximumDepth(self, stringInput: str) -> int:\n",
    "        max_depth = 0\n",
    "        current_depth = 0\n",
    "        \n",
    "        for char in stringInput:\n",
    "            if char == '(':\n",
    "                current_depth += 1\n",
    "                if current_depth > max_depth:\n",
    "                    max_depth = current_depth\n",
    "            elif char == ')':\n",
    "                current_depth -= 1\n",
    "        return max_depth\n",
    "\n",
    "stack_depth = StackDepth()\n",
    "print(stack_depth.maximumDepth(\"(1+(2*3)+((8)/4))+1\"))\n",
    "print(stack_depth.maximumDepth(\"(1)+((2))+(((3)))\")) \n",
    "print(stack_depth.maximumDepth(\"()(())((()()))\")) "
   ]
  },
  {
   "cell_type": "code",
   "execution_count": null,
   "id": "31c18022-bea4-4706-a7a7-2bba511b7382",
   "metadata": {},
   "outputs": [],
   "source": [
    "#User Input String having the Parenthesis"
   ]
  },
  {
   "cell_type": "code",
   "execution_count": 13,
   "id": "d7c850ec-ec74-451e-8447-54574f3dc235",
   "metadata": {},
   "outputs": [
    {
     "name": "stdout",
     "output_type": "stream",
     "text": [
      "Enter a string:  ((((2+3)))+3)\n"
     ]
    },
    {
     "name": "stdout",
     "output_type": "stream",
     "text": [
      "4\n"
     ]
    }
   ],
   "source": [
    "stringInp=input('Enter a string: ')\n",
    "depth=stack_depth.maximumDepth(stringInp)\n",
    "print(depth)"
   ]
  },
  {
   "cell_type": "code",
   "execution_count": null,
   "id": "71b532ec-9868-46b9-bbd9-ae08a0e91f1d",
   "metadata": {},
   "outputs": [],
   "source": []
  }
 ],
 "metadata": {
  "kernelspec": {
   "display_name": "Python [conda env:base] *",
   "language": "python",
   "name": "conda-base-py"
  },
  "language_info": {
   "codemirror_mode": {
    "name": "ipython",
    "version": 3
   },
   "file_extension": ".py",
   "mimetype": "text/x-python",
   "name": "python",
   "nbconvert_exporter": "python",
   "pygments_lexer": "ipython3",
   "version": "3.12.7"
  }
 },
 "nbformat": 4,
 "nbformat_minor": 5
}
